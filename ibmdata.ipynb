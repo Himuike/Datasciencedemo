{
 "cells": [
  {
   "cell_type": "markdown",
   "id": "7e0a880e-8739-4d5a-a239-aafa21c58588",
   "metadata": {},
   "source": [
    "# Data Science Tools and Ecosystem"
   ]
  },
  {
   "cell_type": "markdown",
   "id": "7c18eef2-1e10-486c-abdb-aad183af5f03",
   "metadata": {},
   "source": [
    "In this notebook, Data Science Tools and Ecosystem are summarized."
   ]
  },
  {
   "cell_type": "markdown",
   "id": "881408b1-887c-4cca-a23f-9484aa6d437d",
   "metadata": {},
   "source": [
    "Some of the popular languages that Data Scientists use are:\n",
    "1) Python\n",
    "2) R\n",
    "3) Julia\n",
    "4) SQL"
   ]
  },
  {
   "cell_type": "markdown",
   "id": "1775ed96-5a56-4fc3-86bc-6030fa1c4e29",
   "metadata": {},
   "source": [
    "Some of the commonly used libraries used by Data Scientists include:\n",
    "1) Pandas\n",
    "2) Numphy\n",
    "3) Matplotlib\n",
    "4) Seaborne\n",
    "5) Scikitlearn"
   ]
  },
  {
   "cell_type": "markdown",
   "id": "27cee823-da31-4dda-853a-456128b0be7f",
   "metadata": {},
   "source": [
    "| Data Science Tools |\n",
    "|--------------------|\n",
    "| Kaggle             |\n",
    "| Github             |\n",
    "| Jupyter Lab        |"
   ]
  },
  {
   "cell_type": "markdown",
   "id": "74fd8ae1-29a7-4cf9-a06d-db2d51d5dd57",
   "metadata": {},
   "source": [
    "### Below are a few examples of evaluating arithmetic expressions in Python.\n",
    "\n"
   ]
  },
  {
   "cell_type": "markdown",
   "id": "14755c73-a240-41b0-a56c-bf0d067f8a01",
   "metadata": {},
   "source": [
    "This a simple arithmetic expression to mutiply then add integers"
   ]
  },
  {
   "cell_type": "code",
   "execution_count": 37,
   "id": "25271c12-73e4-4ddc-b457-98652639176b",
   "metadata": {},
   "outputs": [
    {
     "data": {
      "text/plain": [
       "17"
      ]
     },
     "execution_count": 37,
     "metadata": {},
     "output_type": "execute_result"
    }
   ],
   "source": [
    "(3*4)+5"
   ]
  },
  {
   "cell_type": "markdown",
   "id": "c3c8c8b6-c226-4533-8f44-fb7e27785326",
   "metadata": {},
   "source": [
    "This will convert 200 minutes to hours by diving by 60"
   ]
  },
  {
   "cell_type": "code",
   "execution_count": 39,
   "id": "1cad2b57-8e5f-41b8-8daf-07e38c2b057a",
   "metadata": {},
   "outputs": [
    {
     "data": {
      "text/plain": [
       "3.3333333333333335"
      ]
     },
     "execution_count": 39,
     "metadata": {},
     "output_type": "execute_result"
    }
   ],
   "source": [
    "(200/60)"
   ]
  },
  {
   "cell_type": "markdown",
   "id": "03af1e17-ca98-42c7-b5bc-70c7f26ede8e",
   "metadata": {},
   "source": [
    "### **Objectives:**\n",
    "* List popular languages for Data Science\n",
    "* List popular Libraries for Data Science\n",
    "* List popular Tools for Data Science\n",
    "  "
   ]
  },
  {
   "cell_type": "markdown",
   "id": "2bf78f12-3055-46f4-84de-4798c84d4108",
   "metadata": {},
   "source": [
    "## Author\n",
    "Himanshu"
   ]
  },
  {
   "cell_type": "code",
   "execution_count": null,
   "id": "259c6cc3-b5b1-4b0b-b2d1-9e14e9c49adb",
   "metadata": {},
   "outputs": [],
   "source": []
  }
 ],
 "metadata": {
  "kernelspec": {
   "display_name": "Python 3 (ipykernel)",
   "language": "python",
   "name": "python3"
  },
  "language_info": {
   "codemirror_mode": {
    "name": "ipython",
    "version": 3
   },
   "file_extension": ".py",
   "mimetype": "text/x-python",
   "name": "python",
   "nbconvert_exporter": "python",
   "pygments_lexer": "ipython3",
   "version": "3.12.4"
  }
 },
 "nbformat": 4,
 "nbformat_minor": 5
}
